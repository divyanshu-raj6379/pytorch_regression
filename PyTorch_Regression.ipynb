{
  "nbformat": 4,
  "nbformat_minor": 0,
  "metadata": {
    "colab": {
      "provenance": []
    },
    "kernelspec": {
      "name": "python3",
      "display_name": "Python 3"
    },
    "language_info": {
      "name": "python"
    }
  },
  "cells": [
    {
      "cell_type": "code",
      "execution_count": null,
      "metadata": {
        "id": "erX5hn2YpetB"
      },
      "outputs": [],
      "source": [
        "import torch\n",
        "import matplotlib.pyplot as plt"
      ]
    },
    {
      "cell_type": "code",
      "source": [
        "# create data and initialize weight\n",
        "X = torch.tensor([t for t in range(20)], dtype=torch.float32)\n",
        "y = torch.tensor([3*t + torch.rand(1, dtype=torch.float32) for t in range(20)]\n",
        "                 , dtype=torch.float32)\n",
        "w = torch.randn(1, dtype=torch.float32, requires_grad=True)"
      ],
      "metadata": {
        "id": "wihibai9pt3e"
      },
      "execution_count": null,
      "outputs": []
    },
    {
      "cell_type": "markdown",
      "source": [
        "# User defined forward pass and loss"
      ],
      "metadata": {
        "id": "u-x8cdgcydrv"
      }
    },
    {
      "cell_type": "code",
      "source": [
        "# model prediction\n",
        "def forward(x):\n",
        "  return w * x"
      ],
      "metadata": {
        "id": "qQYRPkxyTNma"
      },
      "execution_count": null,
      "outputs": []
    },
    {
      "cell_type": "code",
      "source": [
        "# loss - MSE\n",
        "def loss(y, y_pred):\n",
        "  return ((y_pred - y)**2).mean()"
      ],
      "metadata": {
        "id": "lFrvQ008TtBx"
      },
      "execution_count": null,
      "outputs": []
    },
    {
      "cell_type": "code",
      "source": [
        "# parameters\n",
        "n_epochs = 50\n",
        "learning_rate = 0.0005\n",
        "\n",
        "# history\n",
        "hist = {'epoch':[], 'loss':[], 'weight':[]}\n",
        "\n",
        "# test case\n",
        "X_test = torch.tensor(5, dtype=torch.float32)\n",
        "print(f\"Prediction before training f(X_test): {forward(X_test).item():.3f}\")\n",
        "\n",
        "# train model\n",
        "for epoch in range(n_epochs):\n",
        "  # prediction - forward pass\n",
        "  y_pred = forward(X)\n",
        "\n",
        "  # loss\n",
        "  l = loss(y, y_pred)\n",
        "\n",
        "  # gradients - backward pass\n",
        "  l.backward()\n",
        "\n",
        "  # update weights\n",
        "  dw = w.grad\n",
        "  with torch.no_grad():\n",
        "    w -= learning_rate * dw\n",
        "\n",
        "  # update history\n",
        "  hist['epoch'].append(epoch)\n",
        "  hist['loss'].append(l.item())\n",
        "  hist['weight'].append(w.item())\n",
        "\n",
        "  # reset weight gradients to zero\n",
        "  w.grad.zero_()\n",
        "\n",
        "  # print weight and loss\n",
        "  if (epoch+1)%10 == 0:\n",
        "    print(f\"Epoch {epoch+1}: Loss - {l.item():.5f}, Weight - {w.item():.3f}\")\n",
        "\n",
        "print(f\"Prediction after training f(X_test): {forward(X_test).item():.3f}\")"
      ],
      "metadata": {
        "colab": {
          "base_uri": "https://localhost:8080/"
        },
        "id": "vknQCxFDUTqF",
        "outputId": "49c6bec2-1a7b-4f2b-a61b-c28133e4f0f0"
      },
      "execution_count": null,
      "outputs": [
        {
          "output_type": "stream",
          "name": "stdout",
          "text": [
            "Prediction before training f(X_test): -4.390\n",
            "Epoch 10: Loss - 177.32751, Weight - 1.995\n",
            "Epoch 20: Loss - 12.83446, Weight - 2.764\n",
            "Epoch 30: Loss - 1.05337, Weight - 2.970\n",
            "Epoch 40: Loss - 0.20960, Weight - 3.025\n",
            "Epoch 50: Loss - 0.14917, Weight - 3.040\n",
            "Prediction after training f(X_test): 15.198\n"
          ]
        }
      ]
    },
    {
      "cell_type": "code",
      "source": [
        "ax1 = plt.subplot()\n",
        "l1, = ax1.plot(hist['epoch'], hist['loss'], 'b-')\n",
        "ax2 = ax1.twinx()\n",
        "l2, = ax2.plot(hist['epoch'], hist['weight'], 'r')\n",
        "plt.legend([l1, l2], [\"Loss\", \"Weight\"])\n",
        "plt.xlabel('Epochs')\n",
        "plt.show()"
      ],
      "metadata": {
        "colab": {
          "base_uri": "https://localhost:8080/",
          "height": 265
        },
        "id": "eQzuuLobmUTc",
        "outputId": "09b9de37-9cf9-486e-af04-af0f424211f8"
      },
      "execution_count": null,
      "outputs": [
        {
          "output_type": "display_data",
          "data": {
            "text/plain": [
              "<Figure size 432x288 with 2 Axes>"
            ],
            "image/png": "[encoded data removed]"
          },
          "metadata": {
            "needs_background": "light"
          }
        }
      ]
    },
    {
      "cell_type": "code",
      "source": [
        "with torch.no_grad():\n",
        "  l1, = plt.plot(X, y, 'r-')\n",
        "  l2, = plt.plot(X, y_pred, 'bo')\n",
        "  plt.xlabel('X')\n",
        "  plt.legend([l1, l2], [\"Y\", \"y_pred\"])\n",
        "  plt.show()"
      ],
      "metadata": {
        "colab": {
          "base_uri": "https://localhost:8080/",
          "height": 281
        },
        "id": "7EqDk4symjE-",
        "outputId": "c06b298d-aa32-45fa-dc86-150a68249e12"
      },
      "execution_count": null,
      "outputs": [
        {
          "output_type": "display_data",
          "data": {
            "text/plain": [
              "<Figure size 432x288 with 1 Axes>"
            ],
            "image/png": "[encoded data removed]"
          },
          "metadata": {
            "needs_background": "light"
          }
        }
      ]
    },
    {
      "cell_type": "code",
      "source": [],
      "metadata": {
        "id": "sX2wFW_Dm1_S"
      },
      "execution_count": null,
      "outputs": []
    }
  ]
}